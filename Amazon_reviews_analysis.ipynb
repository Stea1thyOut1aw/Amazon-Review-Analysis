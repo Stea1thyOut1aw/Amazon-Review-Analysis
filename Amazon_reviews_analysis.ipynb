{
  "nbformat": 4,
  "nbformat_minor": 0,
  "metadata": {
    "colab": {
      "provenance": [],
      "gpuType": "T4"
    },
    "kernelspec": {
      "name": "python3",
      "display_name": "Python 3"
    },
    "language_info": {
      "name": "python"
    },
    "accelerator": "GPU"
  },
  "cells": [
    {
      "cell_type": "markdown",
      "source": [
        "# Project 3 : Amazon reviews analysis by Siddharth Sharma"
      ],
      "metadata": {
        "id": "Syb_Pbq6M4Wz"
      }
    },
    {
      "cell_type": "markdown",
      "source": [
        "## Importing Libraries and Dataset"
      ],
      "metadata": {
        "id": "eo1_KsGDx1L7"
      }
    },
    {
      "cell_type": "code",
      "source": [
        "!pip install -q kaggle"
      ],
      "metadata": {
        "id": "Xbi7CLbhHHzg"
      },
      "execution_count": null,
      "outputs": []
    },
    {
      "cell_type": "code",
      "source": [
        "! mkdir ~/.kaggle"
      ],
      "metadata": {
        "id": "rW8f9osRHH5m"
      },
      "execution_count": null,
      "outputs": []
    },
    {
      "cell_type": "code",
      "source": [
        "! cp kaggle.json ~/.kaggle/"
      ],
      "metadata": {
        "id": "1m8w0r1MHIAn"
      },
      "execution_count": null,
      "outputs": []
    },
    {
      "cell_type": "code",
      "source": [
        "! chmod 600 ~/.kaggle/kaggle.json"
      ],
      "metadata": {
        "id": "E5nL5vYCUwMz"
      },
      "execution_count": null,
      "outputs": []
    },
    {
      "cell_type": "code",
      "source": [
        "! kaggle datasets list"
      ],
      "metadata": {
        "colab": {
          "base_uri": "https://localhost:8080/"
        },
        "id": "qNl0OreQU8Gk",
        "outputId": "d7d75115-889a-4e90-d2c8-90c5b9221b93"
      },
      "execution_count": null,
      "outputs": [
        {
          "output_type": "stream",
          "name": "stdout",
          "text": [
            "Warning: Looks like you're using an outdated API Version, please consider updating (server 1.6.3 / client 1.5.16)\n",
            "ref                                                      title                                        size  lastUpdated          downloadCount  voteCount  usabilityRating  \n",
            "-------------------------------------------------------  ------------------------------------------  -----  -------------------  -------------  ---------  ---------------  \n",
            "nelgiriyewithana/apple-quality                           Apple Quality                               170KB  2024-01-11 14:31:07           3713         93  1.0              \n",
            "hummaamqaasim/jobs-in-data                               Jobs and Salaries in Data Science            76KB  2023-12-25 20:03:32          10018        197  1.0              \n",
            "fekihmea/sales-store-overview                            Sales Store overview                          2KB  2024-01-20 11:10:10            903         25  1.0              \n",
            "shashwatwork/depression-and-mental-health-data-analysis  Depression and Mental Health Data Analysis    7KB  2024-01-14 16:24:08            952         23  0.9411765        \n",
            "sahilwagh/gold-stock-prices                              Gold Stock Prices                            46KB  2024-01-22 06:54:32           1712         35  1.0              \n",
            "nelgiriyewithana/new-york-housing-market                 New York Housing Market                     271KB  2024-01-06 16:41:00           3630         91  1.0              \n",
            "raymondtoo/the-world-university-rankings-2016-2024       THE World University Rankings 2016-2024     458KB  2024-01-12 10:27:35            783         25  0.9411765        \n",
            "missionjee/car-sales-report                              Car Sales Report                            657KB  2024-01-20 20:11:42            947         36  1.0              \n",
            "tanishqdublish/world-data-population                     World data population                        14KB  2024-01-12 18:22:20           1328         36  1.0              \n",
            "thedrcat/daigt-v4-train-dataset                          DAIGT-V4-TRAIN-DATASET                       49MB  2024-01-15 23:22:03            328         69  1.0              \n",
            "michau96/social-media-popularity-2009-2023               Social media popularity (2009 - 2023)         5KB  2024-01-16 16:45:09           1353         29  1.0              \n",
            "mrsimple07/student-exam-performance-prediction           Student Exam Performance Prediction          10KB  2024-01-14 12:02:45           1813         47  1.0              \n",
            "webdevbadger/international-student-demographics          International Student Demographics          139KB  2024-01-10 19:52:54           1092         27  1.0              \n",
            "sazidthe1/data-science-salaries                          Data Science Salaries 2024                   57KB  2024-01-20 16:45:27           1287         35  1.0              \n",
            "cdeotte/brain-spectrograms                               Brain-Spectrograms                            3GB  2024-01-13 03:25:31            345        120  0.625            \n",
            "peimandaii/dataset-of-peoples-diabetes                   People's diabetes                             1KB  2024-01-21 07:41:43            263         53  1.0              \n",
            "mrsimple07/laptoppriceprediction                         Laptop Price Prediction                      39KB  2024-01-21 11:06:58           1050         33  1.0              \n",
            "mrsimple07/energy-consumption-prediction                 Energy-consumption-prediction                54KB  2024-01-19 18:05:21            688         27  1.0              \n",
            "vrindakallu/new-york-dataset                             New York Airbnb Open Data 2024                1MB  2024-01-16 18:17:51            791         25  1.0              \n",
            "huzdaria/laptop-pricing                                  Laptop Pricing                                3KB  2024-01-16 15:28:48           1064         31  0.8235294        \n"
          ]
        }
      ]
    },
    {
      "cell_type": "code",
      "source": [
        "!kaggle datasets download -d bittlingmayer/amazonreviews"
      ],
      "metadata": {
        "colab": {
          "base_uri": "https://localhost:8080/"
        },
        "id": "EpaHIaVsVrJD",
        "outputId": "52a8586d-f42a-4f83-ddac-4f80f3e28335"
      },
      "execution_count": null,
      "outputs": [
        {
          "output_type": "stream",
          "name": "stdout",
          "text": [
            "Downloading amazonreviews.zip to /content\n",
            " 99% 487M/493M [00:05<00:00, 104MB/s]\n",
            "100% 493M/493M [00:05<00:00, 94.5MB/s]\n"
          ]
        }
      ]
    },
    {
      "cell_type": "code",
      "source": [
        "!unzip amazonreviews.zip"
      ],
      "metadata": {
        "colab": {
          "base_uri": "https://localhost:8080/"
        },
        "id": "v-gqfEHxVxwy",
        "outputId": "405617b1-35e4-4623-b35f-e2536fbd419a"
      },
      "execution_count": null,
      "outputs": [
        {
          "output_type": "stream",
          "name": "stdout",
          "text": [
            "Archive:  amazonreviews.zip\n",
            "  inflating: test.ft.txt.bz2         \n",
            "  inflating: train.ft.txt.bz2        \n"
          ]
        }
      ]
    },
    {
      "cell_type": "code",
      "source": [
        "!bunzip2 train.ft.txt.bz2"
      ],
      "metadata": {
        "id": "RN2jMlgnW7e6"
      },
      "execution_count": null,
      "outputs": []
    },
    {
      "cell_type": "code",
      "source": [
        "!bunzip2 test.ft.txt.bz2"
      ],
      "metadata": {
        "id": "s-p_pdVyW-z5"
      },
      "execution_count": null,
      "outputs": []
    },
    {
      "cell_type": "code",
      "execution_count": null,
      "metadata": {
        "id": "OmBykrwuZHDK",
        "colab": {
          "base_uri": "https://localhost:8080/"
        },
        "outputId": "33af8fea-6f2f-46b3-e1b6-c899d7e7c3fd"
      },
      "outputs": [
        {
          "output_type": "stream",
          "name": "stdout",
          "text": [
            "Collecting fasttext\n",
            "  Downloading fasttext-0.9.2.tar.gz (68 kB)\n",
            "\u001b[?25l     \u001b[90m━━━━━━━━━━━━━━━━━━━━━━━━━━━━━━━━━━━━━━━━\u001b[0m \u001b[32m0.0/68.8 kB\u001b[0m \u001b[31m?\u001b[0m eta \u001b[36m-:--:--\u001b[0m\r\u001b[2K     \u001b[90m━━━━━━━━━━━━━━━━━━━━━━━━━━━━━━━━━━━━━━━━\u001b[0m \u001b[32m68.8/68.8 kB\u001b[0m \u001b[31m2.8 MB/s\u001b[0m eta \u001b[36m0:00:00\u001b[0m\n",
            "\u001b[?25h  Preparing metadata (setup.py) ... \u001b[?25l\u001b[?25hdone\n",
            "Collecting pybind11>=2.2 (from fasttext)\n",
            "  Using cached pybind11-2.11.1-py3-none-any.whl (227 kB)\n",
            "Requirement already satisfied: setuptools>=0.7.0 in /usr/local/lib/python3.10/dist-packages (from fasttext) (67.7.2)\n",
            "Requirement already satisfied: numpy in /usr/local/lib/python3.10/dist-packages (from fasttext) (1.23.5)\n",
            "Building wheels for collected packages: fasttext\n",
            "  Building wheel for fasttext (setup.py) ... \u001b[?25l\u001b[?25hdone\n",
            "  Created wheel for fasttext: filename=fasttext-0.9.2-cp310-cp310-linux_x86_64.whl size=4199774 sha256=84e046c98feda37d35b486f28af671c0d38935665bf681fac397a3fdcb9c8e50\n",
            "  Stored in directory: /root/.cache/pip/wheels/a5/13/75/f811c84a8ab36eedbaef977a6a58a98990e8e0f1967f98f394\n",
            "Successfully built fasttext\n",
            "Installing collected packages: pybind11, fasttext\n",
            "Successfully installed fasttext-0.9.2 pybind11-2.11.1\n"
          ]
        }
      ],
      "source": [
        "! pip install fasttext"
      ]
    },
    {
      "cell_type": "code",
      "source": [
        "import fasttext\n",
        "import pandas as pd\n",
        "from sklearn.model_selection import train_test_split\n",
        "from sklearn.metrics import accuracy_score, classification_report"
      ],
      "metadata": {
        "id": "7SW7dmhnQc8-"
      },
      "execution_count": null,
      "outputs": []
    },
    {
      "cell_type": "markdown",
      "source": [
        "## FastText Training"
      ],
      "metadata": {
        "id": "GxfYAa-byA7R"
      }
    },
    {
      "cell_type": "code",
      "source": [
        "# Train a fastText model\n",
        "model = fasttext.train_supervised(input='/content/train.ft.txt', epoch=10, lr=1.0)"
      ],
      "metadata": {
        "id": "K1-_0ffQc4b5"
      },
      "execution_count": null,
      "outputs": []
    },
    {
      "cell_type": "markdown",
      "source": [
        "## Model Testing"
      ],
      "metadata": {
        "id": "oL7lKG_QyFIs"
      }
    },
    {
      "cell_type": "code",
      "source": [
        "# Testing\n",
        "result = model.test('/content/test.ft.txt')\n",
        "print(f'Test Accuracy: {result[1] * 100:.2f}%')"
      ],
      "metadata": {
        "colab": {
          "base_uri": "https://localhost:8080/"
        },
        "id": "B7Pxox-oc4ea",
        "outputId": "76f7303f-d0fc-4e61-b2fe-1bb6b72acc11"
      },
      "execution_count": null,
      "outputs": [
        {
          "output_type": "stream",
          "name": "stdout",
          "text": [
            "Test Accuracy: 91.63%\n"
          ]
        }
      ]
    },
    {
      "cell_type": "markdown",
      "source": [
        "## Predicting on new statement"
      ],
      "metadata": {
        "id": "h9hfxcNsyONP"
      }
    },
    {
      "cell_type": "code",
      "source": [
        "# Prediction on new text\n",
        "text_to_predict = \"This product sucks, I hate it.\"\n",
        "predicted_label = model.predict(text_to_predict)\n",
        "\n",
        "if predicted_label[0][0].startswith('__label__1'):\n",
        "    print('Predicted Sentiment: Negative')\n",
        "else:\n",
        "    print('Predicted Sentiment: Positive')"
      ],
      "metadata": {
        "colab": {
          "base_uri": "https://localhost:8080/"
        },
        "id": "WcRMoux8cUCh",
        "outputId": "1c0ae781-2d78-4a5e-93a6-1585c3e8a0b6"
      },
      "execution_count": null,
      "outputs": [
        {
          "output_type": "stream",
          "name": "stdout",
          "text": [
            "Predicted Sentiment: Negative\n"
          ]
        }
      ]
    }
  ]
}